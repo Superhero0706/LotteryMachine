{
 "cells": [
  {
   "cell_type": "code",
   "execution_count": null,
   "id": "e254b5eb",
   "metadata": {},
   "outputs": [],
   "source": [
    "import random \n",
    "def lottery_machine():\n",
    "    list = range(1, 50)\n",
    "    lottery_list = random.sample(list, 6)\n",
    "    return lottery_list\n",
    "\n",
    "def input_numbers():\n",
    "    numbers = list(input(\"Enter 6 numbers with comma and no space:\").replace(',', ''))\n",
    "    return numbers \n",
    "    \n",
    "def check_numbers():\n",
    "    lottery_list = lottery_machine()\n",
    "    mylist = input_numbers()\n",
    "    A = []\n",
    "    for i in mylist:\n",
    "        if int(i) in lottery_list:\n",
    "            A.append(int(i))\n",
    "    print(\"lottery list is\", lottery_list)\n",
    "    print(\"You have\", len(A), \"number(s)\", A, \",\", \"which match(es) lottery list\")\n",
    "\n",
    "\n",
    "check_numbers()"
   ]
  },
  {
   "cell_type": "code",
   "execution_count": null,
   "id": "0041a1cf",
   "metadata": {},
   "outputs": [],
   "source": []
  }
 ],
 "metadata": {
  "kernelspec": {
   "display_name": "Python 3 (ipykernel)",
   "language": "python",
   "name": "python3"
  },
  "language_info": {
   "codemirror_mode": {
    "name": "ipython",
    "version": 3
   },
   "file_extension": ".py",
   "mimetype": "text/x-python",
   "name": "python",
   "nbconvert_exporter": "python",
   "pygments_lexer": "ipython3",
   "version": "3.9.12"
  }
 },
 "nbformat": 4,
 "nbformat_minor": 5
}
