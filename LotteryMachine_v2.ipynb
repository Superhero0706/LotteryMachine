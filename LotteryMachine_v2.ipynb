{
 "cells": [
  {
   "cell_type": "code",
   "execution_count": null,
   "id": "21c040be",
   "metadata": {},
   "outputs": [],
   "source": [
    "import random \n",
    "def lottery_machine():\n",
    "    list = range(1, 50)\n",
    "    lottery_list = random.sample(list, 6)\n",
    "    return lottery_list\n",
    "\n",
    "def input_numbers():\n",
    "    str_input_list = input(\"Enter 6 numbers with comma and no space:\").split(',')\n",
    "    str_range_list = []\n",
    "    int_number_list = []\n",
    "    for a in list(range(1, 50)):\n",
    "        str_range_list.append(str(a))\n",
    "    for str_input in str_input_list:\n",
    "        if str_input in str_range_list:\n",
    "            int_number_list.append(int(str_input))\n",
    "        else:\n",
    "            print(str_input, \"is not an acceptable input\")\n",
    "    if len(set(int_number_list)) != 6:\n",
    "        print(\"Total numebr of acceptable values doesn't match 6\")\n",
    "    else:\n",
    "        return int_number_list\n",
    "    \n",
    "def check_numbers():\n",
    "    lottery_list = lottery_machine()\n",
    "    entered_numbers = input_numbers()\n",
    "    A = []\n",
    "    if entered_numbers == None:\n",
    "        print(\"Your selected numbers can't be checked\")\n",
    "    else:\n",
    "        for i in entered_numbers:\n",
    "            if i in lottery_list:\n",
    "                A.append(i)\n",
    "        print(\"lottery list is\", lottery_list)\n",
    "        print(\"You have\", len(A), \"number(s)\", A, \",\", \"which match(es) lottery list\")\n",
    "\n",
    "check_numbers()"
   ]
  }
 ],
 "metadata": {
  "kernelspec": {
   "display_name": "Python 3 (ipykernel)",
   "language": "python",
   "name": "python3"
  },
  "language_info": {
   "codemirror_mode": {
    "name": "ipython",
    "version": 3
   },
   "file_extension": ".py",
   "mimetype": "text/x-python",
   "name": "python",
   "nbconvert_exporter": "python",
   "pygments_lexer": "ipython3",
   "version": "3.9.12"
  }
 },
 "nbformat": 4,
 "nbformat_minor": 5
}
